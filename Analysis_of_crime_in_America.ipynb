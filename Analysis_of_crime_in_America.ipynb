{
 "cells": [
  {
   "cell_type": "markdown",
   "metadata": {},
   "source": [
    "## Karan Ravindran Pillay"
   ]
  },
  {
   "cell_type": "markdown",
   "metadata": {},
   "source": [
    "## Student ID: 989357386"
   ]
  },
  {
   "cell_type": "markdown",
   "metadata": {},
   "source": [
    "# Epic Enforcement "
   ]
  },
  {
   "cell_type": "markdown",
   "metadata": {},
   "source": [
    "<img src=\"https://www.fbi.gov/image-repository/police-car-light-bar-stock.jpg/@@images/image/high\" width=\"400\" height=\"300\" alt=\"Retail Data\">"
   ]
  },
  {
   "cell_type": "markdown",
   "metadata": {},
   "source": [
    "# 1. Obective "
   ]
  },
  {
   "cell_type": "markdown",
   "metadata": {},
   "source": [
    "⦿ The objective of the report is to run an analysis on cime dataset from Kaggle. To depict the crime rates in america from 1975-2015. The aim of this analytical report is to incorporate enough evidences from the report to help my startup which is dedicated to ploice enforcement optimization. With this report I will schedule an appointment with executives to showcase my report to give them insights about crime in specific geography. \n",
    "\n",
    "⦿ This report includes states of america from which we can analyse the crimes that happened over the span of 40 years. In this dataset there are attributs like crimes, rapes, assaults etc which can help us depict the majority of criminal activities in respective part of the country. This will help the choices of police enforcement team to narrow down. They can put up more defensive measures to reduce the crime rate in that specific region.\n",
    "\n",
    "⦿ From this report we can optimize the system and provide an analysis to the enforcement teams to get an insight about the crime rates in their region, based on the population and nature of crime in america on can easily distinguish between the types of crimes and their rise and fall rate over the years. I have run the analysis and visualized the results with some astonishing results. Please follow the report for more details. "
   ]
  },
  {
   "cell_type": "code",
   "execution_count": 47,
   "metadata": {},
   "outputs": [],
   "source": [
    "import csv\n",
    "import pandas as pd \n",
    "import os\n",
    "import numpy as np\n"
   ]
  },
  {
   "cell_type": "code",
   "execution_count": 3,
   "metadata": {},
   "outputs": [
    {
     "data": {
      "text/plain": [
       "'C:\\\\Users\\\\Karan Pillay'"
      ]
     },
     "execution_count": 3,
     "metadata": {},
     "output_type": "execute_result"
    }
   ],
   "source": [
    "pwd"
   ]
  },
  {
   "cell_type": "code",
   "execution_count": 4,
   "metadata": {},
   "outputs": [
    {
     "data": {
      "text/html": [
       "<div>\n",
       "<style scoped>\n",
       "    .dataframe tbody tr th:only-of-type {\n",
       "        vertical-align: middle;\n",
       "    }\n",
       "\n",
       "    .dataframe tbody tr th {\n",
       "        vertical-align: top;\n",
       "    }\n",
       "\n",
       "    .dataframe thead th {\n",
       "        text-align: right;\n",
       "    }\n",
       "</style>\n",
       "<table border=\"1\" class=\"dataframe\">\n",
       "  <thead>\n",
       "    <tr style=\"text-align: right;\">\n",
       "      <th></th>\n",
       "      <th>report_year</th>\n",
       "      <th>agency_code</th>\n",
       "      <th>agency_jurisdiction</th>\n",
       "      <th>population</th>\n",
       "      <th>violent_crimes</th>\n",
       "      <th>homicides</th>\n",
       "      <th>rapes</th>\n",
       "      <th>assaults</th>\n",
       "      <th>robberies</th>\n",
       "      <th>months_reported</th>\n",
       "      <th>crimes_percapita</th>\n",
       "      <th>homicides_percapita</th>\n",
       "      <th>rapes_percapita</th>\n",
       "      <th>assaults_percapita</th>\n",
       "      <th>robberies_percapita</th>\n",
       "    </tr>\n",
       "  </thead>\n",
       "  <tbody>\n",
       "    <tr>\n",
       "      <th>0</th>\n",
       "      <td>1975</td>\n",
       "      <td>NM00101</td>\n",
       "      <td>Albuquerque, NM</td>\n",
       "      <td>286238.0</td>\n",
       "      <td>2383.0</td>\n",
       "      <td>30.0</td>\n",
       "      <td>181.0</td>\n",
       "      <td>1353.0</td>\n",
       "      <td>819.0</td>\n",
       "      <td>12.0</td>\n",
       "      <td>832.52</td>\n",
       "      <td>10.48</td>\n",
       "      <td>63.23</td>\n",
       "      <td>472.68</td>\n",
       "      <td>286.13</td>\n",
       "    </tr>\n",
       "    <tr>\n",
       "      <th>1</th>\n",
       "      <td>1975</td>\n",
       "      <td>TX22001</td>\n",
       "      <td>Arlington, TX</td>\n",
       "      <td>112478.0</td>\n",
       "      <td>278.0</td>\n",
       "      <td>5.0</td>\n",
       "      <td>28.0</td>\n",
       "      <td>132.0</td>\n",
       "      <td>113.0</td>\n",
       "      <td>12.0</td>\n",
       "      <td>247.16</td>\n",
       "      <td>4.45</td>\n",
       "      <td>24.89</td>\n",
       "      <td>117.36</td>\n",
       "      <td>100.46</td>\n",
       "    </tr>\n",
       "    <tr>\n",
       "      <th>2</th>\n",
       "      <td>1975</td>\n",
       "      <td>GAAPD00</td>\n",
       "      <td>Atlanta, GA</td>\n",
       "      <td>490584.0</td>\n",
       "      <td>8033.0</td>\n",
       "      <td>185.0</td>\n",
       "      <td>443.0</td>\n",
       "      <td>3518.0</td>\n",
       "      <td>3887.0</td>\n",
       "      <td>12.0</td>\n",
       "      <td>1637.44</td>\n",
       "      <td>37.71</td>\n",
       "      <td>90.30</td>\n",
       "      <td>717.10</td>\n",
       "      <td>792.32</td>\n",
       "    </tr>\n",
       "    <tr>\n",
       "      <th>3</th>\n",
       "      <td>1975</td>\n",
       "      <td>CO00101</td>\n",
       "      <td>Aurora, CO</td>\n",
       "      <td>116656.0</td>\n",
       "      <td>611.0</td>\n",
       "      <td>7.0</td>\n",
       "      <td>44.0</td>\n",
       "      <td>389.0</td>\n",
       "      <td>171.0</td>\n",
       "      <td>12.0</td>\n",
       "      <td>523.76</td>\n",
       "      <td>6.00</td>\n",
       "      <td>37.72</td>\n",
       "      <td>333.46</td>\n",
       "      <td>146.58</td>\n",
       "    </tr>\n",
       "    <tr>\n",
       "      <th>4</th>\n",
       "      <td>1975</td>\n",
       "      <td>TX22701</td>\n",
       "      <td>Austin, TX</td>\n",
       "      <td>300400.0</td>\n",
       "      <td>1215.0</td>\n",
       "      <td>33.0</td>\n",
       "      <td>190.0</td>\n",
       "      <td>463.0</td>\n",
       "      <td>529.0</td>\n",
       "      <td>12.0</td>\n",
       "      <td>404.46</td>\n",
       "      <td>10.99</td>\n",
       "      <td>63.25</td>\n",
       "      <td>154.13</td>\n",
       "      <td>176.10</td>\n",
       "    </tr>\n",
       "  </tbody>\n",
       "</table>\n",
       "</div>"
      ],
      "text/plain": [
       "   report_year agency_code agency_jurisdiction  population  violent_crimes  \\\n",
       "0         1975     NM00101     Albuquerque, NM    286238.0          2383.0   \n",
       "1         1975     TX22001       Arlington, TX    112478.0           278.0   \n",
       "2         1975     GAAPD00         Atlanta, GA    490584.0          8033.0   \n",
       "3         1975     CO00101          Aurora, CO    116656.0           611.0   \n",
       "4         1975     TX22701          Austin, TX    300400.0          1215.0   \n",
       "\n",
       "   homicides  rapes  assaults  robberies  months_reported  crimes_percapita  \\\n",
       "0       30.0  181.0    1353.0      819.0             12.0            832.52   \n",
       "1        5.0   28.0     132.0      113.0             12.0            247.16   \n",
       "2      185.0  443.0    3518.0     3887.0             12.0           1637.44   \n",
       "3        7.0   44.0     389.0      171.0             12.0            523.76   \n",
       "4       33.0  190.0     463.0      529.0             12.0            404.46   \n",
       "\n",
       "   homicides_percapita  rapes_percapita  assaults_percapita  \\\n",
       "0                10.48            63.23              472.68   \n",
       "1                 4.45            24.89              117.36   \n",
       "2                37.71            90.30              717.10   \n",
       "3                 6.00            37.72              333.46   \n",
       "4                10.99            63.25              154.13   \n",
       "\n",
       "   robberies_percapita  \n",
       "0               286.13  \n",
       "1               100.46  \n",
       "2               792.32  \n",
       "3               146.58  \n",
       "4               176.10  "
      ]
     },
     "execution_count": 4,
     "metadata": {},
     "output_type": "execute_result"
    }
   ],
   "source": [
    "df = pd.read_csv(r\"C:\\Users\\Karan Pillay\\Downloads\\report.csv\")\n",
    "df.head()"
   ]
  },
  {
   "cell_type": "markdown",
   "metadata": {},
   "source": [
    "# 2. Data Exploration "
   ]
  },
  {
   "cell_type": "markdown",
   "metadata": {},
   "source": [
    "##### ► The describe() is used to print a detailed information about dataset."
   ]
  },
  {
   "cell_type": "code",
   "execution_count": 5,
   "metadata": {},
   "outputs": [
    {
     "data": {
      "text/html": [
       "<div>\n",
       "<style scoped>\n",
       "    .dataframe tbody tr th:only-of-type {\n",
       "        vertical-align: middle;\n",
       "    }\n",
       "\n",
       "    .dataframe tbody tr th {\n",
       "        vertical-align: top;\n",
       "    }\n",
       "\n",
       "    .dataframe thead th {\n",
       "        text-align: right;\n",
       "    }\n",
       "</style>\n",
       "<table border=\"1\" class=\"dataframe\">\n",
       "  <thead>\n",
       "    <tr style=\"text-align: right;\">\n",
       "      <th></th>\n",
       "      <th>report_year</th>\n",
       "      <th>population</th>\n",
       "      <th>violent_crimes</th>\n",
       "      <th>homicides</th>\n",
       "      <th>rapes</th>\n",
       "      <th>assaults</th>\n",
       "      <th>robberies</th>\n",
       "      <th>months_reported</th>\n",
       "      <th>crimes_percapita</th>\n",
       "      <th>homicides_percapita</th>\n",
       "      <th>rapes_percapita</th>\n",
       "      <th>assaults_percapita</th>\n",
       "      <th>robberies_percapita</th>\n",
       "    </tr>\n",
       "  </thead>\n",
       "  <tbody>\n",
       "    <tr>\n",
       "      <th>count</th>\n",
       "      <td>2829.000000</td>\n",
       "      <td>2.760000e+03</td>\n",
       "      <td>2.794000e+03</td>\n",
       "      <td>2795.000000</td>\n",
       "      <td>2754.000000</td>\n",
       "      <td>2753.000000</td>\n",
       "      <td>2754.000000</td>\n",
       "      <td>2692.000000</td>\n",
       "      <td>2794.000000</td>\n",
       "      <td>2795.000000</td>\n",
       "      <td>2754.000000</td>\n",
       "      <td>2753.000000</td>\n",
       "      <td>2754.000000</td>\n",
       "    </tr>\n",
       "    <tr>\n",
       "      <th>mean</th>\n",
       "      <td>1995.000000</td>\n",
       "      <td>7.956981e+05</td>\n",
       "      <td>2.963255e+04</td>\n",
       "      <td>398.385331</td>\n",
       "      <td>416.278867</td>\n",
       "      <td>4405.146023</td>\n",
       "      <td>4000.245098</td>\n",
       "      <td>11.868871</td>\n",
       "      <td>1093.049810</td>\n",
       "      <td>15.372812</td>\n",
       "      <td>59.305167</td>\n",
       "      <td>566.595434</td>\n",
       "      <td>459.968112</td>\n",
       "    </tr>\n",
       "    <tr>\n",
       "      <th>std</th>\n",
       "      <td>11.834251</td>\n",
       "      <td>1.012451e+06</td>\n",
       "      <td>1.728630e+05</td>\n",
       "      <td>2281.276402</td>\n",
       "      <td>479.811934</td>\n",
       "      <td>6977.293769</td>\n",
       "      <td>8653.902965</td>\n",
       "      <td>1.118194</td>\n",
       "      <td>676.884678</td>\n",
       "      <td>12.350640</td>\n",
       "      <td>31.971570</td>\n",
       "      <td>369.436996</td>\n",
       "      <td>340.903534</td>\n",
       "    </tr>\n",
       "    <tr>\n",
       "      <th>min</th>\n",
       "      <td>1975.000000</td>\n",
       "      <td>1.007630e+05</td>\n",
       "      <td>1.540000e+02</td>\n",
       "      <td>1.000000</td>\n",
       "      <td>15.000000</td>\n",
       "      <td>15.000000</td>\n",
       "      <td>83.000000</td>\n",
       "      <td>0.000000</td>\n",
       "      <td>16.490000</td>\n",
       "      <td>0.210000</td>\n",
       "      <td>1.640000</td>\n",
       "      <td>1.610000</td>\n",
       "      <td>11.460000</td>\n",
       "    </tr>\n",
       "    <tr>\n",
       "      <th>25%</th>\n",
       "      <td>1985.000000</td>\n",
       "      <td>3.779310e+05</td>\n",
       "      <td>3.014750e+03</td>\n",
       "      <td>32.000000</td>\n",
       "      <td>176.250000</td>\n",
       "      <td>1467.000000</td>\n",
       "      <td>1032.000000</td>\n",
       "      <td>12.000000</td>\n",
       "      <td>625.082500</td>\n",
       "      <td>6.955000</td>\n",
       "      <td>35.775000</td>\n",
       "      <td>319.090000</td>\n",
       "      <td>210.242500</td>\n",
       "    </tr>\n",
       "    <tr>\n",
       "      <th>50%</th>\n",
       "      <td>1995.000000</td>\n",
       "      <td>5.366145e+05</td>\n",
       "      <td>5.135500e+03</td>\n",
       "      <td>64.000000</td>\n",
       "      <td>291.000000</td>\n",
       "      <td>2597.000000</td>\n",
       "      <td>1940.000000</td>\n",
       "      <td>12.000000</td>\n",
       "      <td>949.680000</td>\n",
       "      <td>11.980000</td>\n",
       "      <td>55.900000</td>\n",
       "      <td>487.480000</td>\n",
       "      <td>374.400000</td>\n",
       "    </tr>\n",
       "    <tr>\n",
       "      <th>75%</th>\n",
       "      <td>2005.000000</td>\n",
       "      <td>8.168558e+05</td>\n",
       "      <td>9.058500e+03</td>\n",
       "      <td>131.000000</td>\n",
       "      <td>465.000000</td>\n",
       "      <td>4556.000000</td>\n",
       "      <td>3609.750000</td>\n",
       "      <td>12.000000</td>\n",
       "      <td>1409.507500</td>\n",
       "      <td>20.230000</td>\n",
       "      <td>77.797500</td>\n",
       "      <td>728.240000</td>\n",
       "      <td>612.005000</td>\n",
       "    </tr>\n",
       "    <tr>\n",
       "      <th>max</th>\n",
       "      <td>2015.000000</td>\n",
       "      <td>8.550861e+06</td>\n",
       "      <td>1.932274e+06</td>\n",
       "      <td>24703.000000</td>\n",
       "      <td>3899.000000</td>\n",
       "      <td>71030.000000</td>\n",
       "      <td>107475.000000</td>\n",
       "      <td>12.000000</td>\n",
       "      <td>4352.830000</td>\n",
       "      <td>94.740000</td>\n",
       "      <td>199.300000</td>\n",
       "      <td>2368.220000</td>\n",
       "      <td>2337.520000</td>\n",
       "    </tr>\n",
       "  </tbody>\n",
       "</table>\n",
       "</div>"
      ],
      "text/plain": [
       "       report_year    population  violent_crimes     homicides        rapes  \\\n",
       "count  2829.000000  2.760000e+03    2.794000e+03   2795.000000  2754.000000   \n",
       "mean   1995.000000  7.956981e+05    2.963255e+04    398.385331   416.278867   \n",
       "std      11.834251  1.012451e+06    1.728630e+05   2281.276402   479.811934   \n",
       "min    1975.000000  1.007630e+05    1.540000e+02      1.000000    15.000000   \n",
       "25%    1985.000000  3.779310e+05    3.014750e+03     32.000000   176.250000   \n",
       "50%    1995.000000  5.366145e+05    5.135500e+03     64.000000   291.000000   \n",
       "75%    2005.000000  8.168558e+05    9.058500e+03    131.000000   465.000000   \n",
       "max    2015.000000  8.550861e+06    1.932274e+06  24703.000000  3899.000000   \n",
       "\n",
       "           assaults      robberies  months_reported  crimes_percapita  \\\n",
       "count   2753.000000    2754.000000      2692.000000       2794.000000   \n",
       "mean    4405.146023    4000.245098        11.868871       1093.049810   \n",
       "std     6977.293769    8653.902965         1.118194        676.884678   \n",
       "min       15.000000      83.000000         0.000000         16.490000   \n",
       "25%     1467.000000    1032.000000        12.000000        625.082500   \n",
       "50%     2597.000000    1940.000000        12.000000        949.680000   \n",
       "75%     4556.000000    3609.750000        12.000000       1409.507500   \n",
       "max    71030.000000  107475.000000        12.000000       4352.830000   \n",
       "\n",
       "       homicides_percapita  rapes_percapita  assaults_percapita  \\\n",
       "count          2795.000000      2754.000000         2753.000000   \n",
       "mean             15.372812        59.305167          566.595434   \n",
       "std              12.350640        31.971570          369.436996   \n",
       "min               0.210000         1.640000            1.610000   \n",
       "25%               6.955000        35.775000          319.090000   \n",
       "50%              11.980000        55.900000          487.480000   \n",
       "75%              20.230000        77.797500          728.240000   \n",
       "max              94.740000       199.300000         2368.220000   \n",
       "\n",
       "       robberies_percapita  \n",
       "count          2754.000000  \n",
       "mean            459.968112  \n",
       "std             340.903534  \n",
       "min              11.460000  \n",
       "25%             210.242500  \n",
       "50%             374.400000  \n",
       "75%             612.005000  \n",
       "max            2337.520000  "
      ]
     },
     "execution_count": 5,
     "metadata": {},
     "output_type": "execute_result"
    }
   ],
   "source": [
    "df.describe()"
   ]
  },
  {
   "cell_type": "markdown",
   "metadata": {},
   "source": [
    "##### ► Column specific describe()"
   ]
  },
  {
   "cell_type": "code",
   "execution_count": 111,
   "metadata": {},
   "outputs": [
    {
     "data": {
      "text/plain": [
       "count    2688.000000\n",
       "mean      415.340774\n",
       "std       480.924802\n",
       "min        15.000000\n",
       "25%       176.000000\n",
       "50%       289.000000\n",
       "75%       464.000000\n",
       "max      3899.000000\n",
       "Name: rapes, dtype: float64"
      ]
     },
     "execution_count": 111,
     "metadata": {},
     "output_type": "execute_result"
    }
   ],
   "source": [
    "df.rapes.describe()"
   ]
  },
  {
   "cell_type": "markdown",
   "metadata": {},
   "source": [
    "##### ► The count() is used to show the number of entries in respective attributes."
   ]
  },
  {
   "cell_type": "code",
   "execution_count": 7,
   "metadata": {},
   "outputs": [
    {
     "data": {
      "text/plain": [
       "report_year            2829\n",
       "agency_code            2788\n",
       "agency_jurisdiction    2829\n",
       "population             2760\n",
       "violent_crimes         2794\n",
       "homicides              2795\n",
       "rapes                  2754\n",
       "assaults               2753\n",
       "robberies              2754\n",
       "months_reported        2692\n",
       "crimes_percapita       2794\n",
       "homicides_percapita    2795\n",
       "rapes_percapita        2754\n",
       "assaults_percapita     2753\n",
       "robberies_percapita    2754\n",
       "dtype: int64"
      ]
     },
     "execution_count": 7,
     "metadata": {},
     "output_type": "execute_result"
    }
   ],
   "source": [
    "df.count()"
   ]
  },
  {
   "cell_type": "markdown",
   "metadata": {},
   "source": [
    "##### ► head() command is used to show the top 10 entries from the dataset "
   ]
  },
  {
   "cell_type": "code",
   "execution_count": 8,
   "metadata": {},
   "outputs": [
    {
     "data": {
      "text/html": [
       "<div>\n",
       "<style scoped>\n",
       "    .dataframe tbody tr th:only-of-type {\n",
       "        vertical-align: middle;\n",
       "    }\n",
       "\n",
       "    .dataframe tbody tr th {\n",
       "        vertical-align: top;\n",
       "    }\n",
       "\n",
       "    .dataframe thead th {\n",
       "        text-align: right;\n",
       "    }\n",
       "</style>\n",
       "<table border=\"1\" class=\"dataframe\">\n",
       "  <thead>\n",
       "    <tr style=\"text-align: right;\">\n",
       "      <th></th>\n",
       "      <th>report_year</th>\n",
       "      <th>agency_code</th>\n",
       "      <th>agency_jurisdiction</th>\n",
       "      <th>population</th>\n",
       "      <th>violent_crimes</th>\n",
       "      <th>homicides</th>\n",
       "      <th>rapes</th>\n",
       "      <th>assaults</th>\n",
       "      <th>robberies</th>\n",
       "      <th>months_reported</th>\n",
       "      <th>crimes_percapita</th>\n",
       "      <th>homicides_percapita</th>\n",
       "      <th>rapes_percapita</th>\n",
       "      <th>assaults_percapita</th>\n",
       "      <th>robberies_percapita</th>\n",
       "    </tr>\n",
       "  </thead>\n",
       "  <tbody>\n",
       "    <tr>\n",
       "      <th>0</th>\n",
       "      <td>1975</td>\n",
       "      <td>NM00101</td>\n",
       "      <td>Albuquerque, NM</td>\n",
       "      <td>286238.0</td>\n",
       "      <td>2383.0</td>\n",
       "      <td>30.0</td>\n",
       "      <td>181.0</td>\n",
       "      <td>1353.0</td>\n",
       "      <td>819.0</td>\n",
       "      <td>12.0</td>\n",
       "      <td>832.52</td>\n",
       "      <td>10.48</td>\n",
       "      <td>63.23</td>\n",
       "      <td>472.68</td>\n",
       "      <td>286.13</td>\n",
       "    </tr>\n",
       "    <tr>\n",
       "      <th>1</th>\n",
       "      <td>1975</td>\n",
       "      <td>TX22001</td>\n",
       "      <td>Arlington, TX</td>\n",
       "      <td>112478.0</td>\n",
       "      <td>278.0</td>\n",
       "      <td>5.0</td>\n",
       "      <td>28.0</td>\n",
       "      <td>132.0</td>\n",
       "      <td>113.0</td>\n",
       "      <td>12.0</td>\n",
       "      <td>247.16</td>\n",
       "      <td>4.45</td>\n",
       "      <td>24.89</td>\n",
       "      <td>117.36</td>\n",
       "      <td>100.46</td>\n",
       "    </tr>\n",
       "    <tr>\n",
       "      <th>2</th>\n",
       "      <td>1975</td>\n",
       "      <td>GAAPD00</td>\n",
       "      <td>Atlanta, GA</td>\n",
       "      <td>490584.0</td>\n",
       "      <td>8033.0</td>\n",
       "      <td>185.0</td>\n",
       "      <td>443.0</td>\n",
       "      <td>3518.0</td>\n",
       "      <td>3887.0</td>\n",
       "      <td>12.0</td>\n",
       "      <td>1637.44</td>\n",
       "      <td>37.71</td>\n",
       "      <td>90.30</td>\n",
       "      <td>717.10</td>\n",
       "      <td>792.32</td>\n",
       "    </tr>\n",
       "    <tr>\n",
       "      <th>3</th>\n",
       "      <td>1975</td>\n",
       "      <td>CO00101</td>\n",
       "      <td>Aurora, CO</td>\n",
       "      <td>116656.0</td>\n",
       "      <td>611.0</td>\n",
       "      <td>7.0</td>\n",
       "      <td>44.0</td>\n",
       "      <td>389.0</td>\n",
       "      <td>171.0</td>\n",
       "      <td>12.0</td>\n",
       "      <td>523.76</td>\n",
       "      <td>6.00</td>\n",
       "      <td>37.72</td>\n",
       "      <td>333.46</td>\n",
       "      <td>146.58</td>\n",
       "    </tr>\n",
       "    <tr>\n",
       "      <th>4</th>\n",
       "      <td>1975</td>\n",
       "      <td>TX22701</td>\n",
       "      <td>Austin, TX</td>\n",
       "      <td>300400.0</td>\n",
       "      <td>1215.0</td>\n",
       "      <td>33.0</td>\n",
       "      <td>190.0</td>\n",
       "      <td>463.0</td>\n",
       "      <td>529.0</td>\n",
       "      <td>12.0</td>\n",
       "      <td>404.46</td>\n",
       "      <td>10.99</td>\n",
       "      <td>63.25</td>\n",
       "      <td>154.13</td>\n",
       "      <td>176.10</td>\n",
       "    </tr>\n",
       "    <tr>\n",
       "      <th>5</th>\n",
       "      <td>1975</td>\n",
       "      <td>MD00301</td>\n",
       "      <td>Baltimore County, MD</td>\n",
       "      <td>642154.0</td>\n",
       "      <td>1259.0</td>\n",
       "      <td>25.0</td>\n",
       "      <td>137.0</td>\n",
       "      <td>347.0</td>\n",
       "      <td>750.0</td>\n",
       "      <td>12.0</td>\n",
       "      <td>196.06</td>\n",
       "      <td>3.89</td>\n",
       "      <td>21.33</td>\n",
       "      <td>54.04</td>\n",
       "      <td>116.79</td>\n",
       "    </tr>\n",
       "    <tr>\n",
       "      <th>6</th>\n",
       "      <td>1975</td>\n",
       "      <td>MDBPD00</td>\n",
       "      <td>Baltimore, MD</td>\n",
       "      <td>864100.0</td>\n",
       "      <td>16086.0</td>\n",
       "      <td>259.0</td>\n",
       "      <td>463.0</td>\n",
       "      <td>6309.0</td>\n",
       "      <td>9055.0</td>\n",
       "      <td>12.0</td>\n",
       "      <td>1861.59</td>\n",
       "      <td>29.97</td>\n",
       "      <td>53.58</td>\n",
       "      <td>730.12</td>\n",
       "      <td>1047.91</td>\n",
       "    </tr>\n",
       "    <tr>\n",
       "      <th>7</th>\n",
       "      <td>1975</td>\n",
       "      <td>MA01301</td>\n",
       "      <td>Boston, MA</td>\n",
       "      <td>616120.0</td>\n",
       "      <td>11386.0</td>\n",
       "      <td>119.0</td>\n",
       "      <td>453.0</td>\n",
       "      <td>3036.0</td>\n",
       "      <td>7778.0</td>\n",
       "      <td>12.0</td>\n",
       "      <td>1848.02</td>\n",
       "      <td>19.31</td>\n",
       "      <td>73.52</td>\n",
       "      <td>492.76</td>\n",
       "      <td>1262.42</td>\n",
       "    </tr>\n",
       "    <tr>\n",
       "      <th>8</th>\n",
       "      <td>1975</td>\n",
       "      <td>NY01401</td>\n",
       "      <td>Buffalo, NY</td>\n",
       "      <td>422276.0</td>\n",
       "      <td>3350.0</td>\n",
       "      <td>63.0</td>\n",
       "      <td>192.0</td>\n",
       "      <td>755.0</td>\n",
       "      <td>2340.0</td>\n",
       "      <td>12.0</td>\n",
       "      <td>793.32</td>\n",
       "      <td>14.92</td>\n",
       "      <td>45.47</td>\n",
       "      <td>178.79</td>\n",
       "      <td>554.14</td>\n",
       "    </tr>\n",
       "    <tr>\n",
       "      <th>9</th>\n",
       "      <td>1975</td>\n",
       "      <td>NC06001</td>\n",
       "      <td>Charlotte, NC</td>\n",
       "      <td>262103.0</td>\n",
       "      <td>1937.0</td>\n",
       "      <td>68.0</td>\n",
       "      <td>71.0</td>\n",
       "      <td>976.0</td>\n",
       "      <td>822.0</td>\n",
       "      <td>12.0</td>\n",
       "      <td>739.02</td>\n",
       "      <td>25.94</td>\n",
       "      <td>27.09</td>\n",
       "      <td>372.37</td>\n",
       "      <td>313.62</td>\n",
       "    </tr>\n",
       "  </tbody>\n",
       "</table>\n",
       "</div>"
      ],
      "text/plain": [
       "   report_year agency_code   agency_jurisdiction  population  violent_crimes  \\\n",
       "0         1975     NM00101       Albuquerque, NM    286238.0          2383.0   \n",
       "1         1975     TX22001         Arlington, TX    112478.0           278.0   \n",
       "2         1975     GAAPD00           Atlanta, GA    490584.0          8033.0   \n",
       "3         1975     CO00101            Aurora, CO    116656.0           611.0   \n",
       "4         1975     TX22701            Austin, TX    300400.0          1215.0   \n",
       "5         1975     MD00301  Baltimore County, MD    642154.0          1259.0   \n",
       "6         1975     MDBPD00         Baltimore, MD    864100.0         16086.0   \n",
       "7         1975     MA01301            Boston, MA    616120.0         11386.0   \n",
       "8         1975     NY01401           Buffalo, NY    422276.0          3350.0   \n",
       "9         1975     NC06001         Charlotte, NC    262103.0          1937.0   \n",
       "\n",
       "   homicides  rapes  assaults  robberies  months_reported  crimes_percapita  \\\n",
       "0       30.0  181.0    1353.0      819.0             12.0            832.52   \n",
       "1        5.0   28.0     132.0      113.0             12.0            247.16   \n",
       "2      185.0  443.0    3518.0     3887.0             12.0           1637.44   \n",
       "3        7.0   44.0     389.0      171.0             12.0            523.76   \n",
       "4       33.0  190.0     463.0      529.0             12.0            404.46   \n",
       "5       25.0  137.0     347.0      750.0             12.0            196.06   \n",
       "6      259.0  463.0    6309.0     9055.0             12.0           1861.59   \n",
       "7      119.0  453.0    3036.0     7778.0             12.0           1848.02   \n",
       "8       63.0  192.0     755.0     2340.0             12.0            793.32   \n",
       "9       68.0   71.0     976.0      822.0             12.0            739.02   \n",
       "\n",
       "   homicides_percapita  rapes_percapita  assaults_percapita  \\\n",
       "0                10.48            63.23              472.68   \n",
       "1                 4.45            24.89              117.36   \n",
       "2                37.71            90.30              717.10   \n",
       "3                 6.00            37.72              333.46   \n",
       "4                10.99            63.25              154.13   \n",
       "5                 3.89            21.33               54.04   \n",
       "6                29.97            53.58              730.12   \n",
       "7                19.31            73.52              492.76   \n",
       "8                14.92            45.47              178.79   \n",
       "9                25.94            27.09              372.37   \n",
       "\n",
       "   robberies_percapita  \n",
       "0               286.13  \n",
       "1               100.46  \n",
       "2               792.32  \n",
       "3               146.58  \n",
       "4               176.10  \n",
       "5               116.79  \n",
       "6              1047.91  \n",
       "7              1262.42  \n",
       "8               554.14  \n",
       "9               313.62  "
      ]
     },
     "execution_count": 8,
     "metadata": {},
     "output_type": "execute_result"
    }
   ],
   "source": [
    "df.head(n=10)"
   ]
  },
  {
   "cell_type": "markdown",
   "metadata": {},
   "source": [
    "##### ► tail() command is used to show the last 10 entries from the dataset "
   ]
  },
  {
   "cell_type": "code",
   "execution_count": 9,
   "metadata": {},
   "outputs": [
    {
     "data": {
      "text/html": [
       "<div>\n",
       "<style scoped>\n",
       "    .dataframe tbody tr th:only-of-type {\n",
       "        vertical-align: middle;\n",
       "    }\n",
       "\n",
       "    .dataframe tbody tr th {\n",
       "        vertical-align: top;\n",
       "    }\n",
       "\n",
       "    .dataframe thead th {\n",
       "        text-align: right;\n",
       "    }\n",
       "</style>\n",
       "<table border=\"1\" class=\"dataframe\">\n",
       "  <thead>\n",
       "    <tr style=\"text-align: right;\">\n",
       "      <th></th>\n",
       "      <th>report_year</th>\n",
       "      <th>agency_code</th>\n",
       "      <th>agency_jurisdiction</th>\n",
       "      <th>population</th>\n",
       "      <th>violent_crimes</th>\n",
       "      <th>homicides</th>\n",
       "      <th>rapes</th>\n",
       "      <th>assaults</th>\n",
       "      <th>robberies</th>\n",
       "      <th>months_reported</th>\n",
       "      <th>crimes_percapita</th>\n",
       "      <th>homicides_percapita</th>\n",
       "      <th>rapes_percapita</th>\n",
       "      <th>assaults_percapita</th>\n",
       "      <th>robberies_percapita</th>\n",
       "    </tr>\n",
       "  </thead>\n",
       "  <tbody>\n",
       "    <tr>\n",
       "      <th>2819</th>\n",
       "      <td>2015</td>\n",
       "      <td>WASPD00</td>\n",
       "      <td>Seattle, WA</td>\n",
       "      <td>683700.0</td>\n",
       "      <td>4093.0</td>\n",
       "      <td>23.0</td>\n",
       "      <td>144.0</td>\n",
       "      <td>2394.0</td>\n",
       "      <td>1532.0</td>\n",
       "      <td>NaN</td>\n",
       "      <td>598.65</td>\n",
       "      <td>3.36</td>\n",
       "      <td>21.06</td>\n",
       "      <td>350.15</td>\n",
       "      <td>224.07</td>\n",
       "    </tr>\n",
       "    <tr>\n",
       "      <th>2820</th>\n",
       "      <td>2015</td>\n",
       "      <td>MOSPD00</td>\n",
       "      <td>St. Louis, MO</td>\n",
       "      <td>317095.0</td>\n",
       "      <td>5762.0</td>\n",
       "      <td>188.0</td>\n",
       "      <td>263.0</td>\n",
       "      <td>3521.0</td>\n",
       "      <td>1790.0</td>\n",
       "      <td>NaN</td>\n",
       "      <td>1817.12</td>\n",
       "      <td>59.29</td>\n",
       "      <td>82.94</td>\n",
       "      <td>1110.39</td>\n",
       "      <td>564.50</td>\n",
       "    </tr>\n",
       "    <tr>\n",
       "      <th>2821</th>\n",
       "      <td>2015</td>\n",
       "      <td>NY05101</td>\n",
       "      <td>Suffolk County, NY</td>\n",
       "      <td>1341453.0</td>\n",
       "      <td>1675.0</td>\n",
       "      <td>24.0</td>\n",
       "      <td>79.0</td>\n",
       "      <td>895.0</td>\n",
       "      <td>677.0</td>\n",
       "      <td>NaN</td>\n",
       "      <td>124.86</td>\n",
       "      <td>1.79</td>\n",
       "      <td>5.89</td>\n",
       "      <td>66.72</td>\n",
       "      <td>50.47</td>\n",
       "    </tr>\n",
       "    <tr>\n",
       "      <th>2822</th>\n",
       "      <td>2015</td>\n",
       "      <td>FL02902</td>\n",
       "      <td>Tampa, FL</td>\n",
       "      <td>364383.0</td>\n",
       "      <td>2298.0</td>\n",
       "      <td>34.0</td>\n",
       "      <td>77.0</td>\n",
       "      <td>1516.0</td>\n",
       "      <td>671.0</td>\n",
       "      <td>NaN</td>\n",
       "      <td>630.66</td>\n",
       "      <td>9.33</td>\n",
       "      <td>21.13</td>\n",
       "      <td>416.05</td>\n",
       "      <td>184.15</td>\n",
       "    </tr>\n",
       "    <tr>\n",
       "      <th>2823</th>\n",
       "      <td>2015</td>\n",
       "      <td>AZ01003</td>\n",
       "      <td>Tucson, AZ</td>\n",
       "      <td>529675.0</td>\n",
       "      <td>3472.0</td>\n",
       "      <td>31.0</td>\n",
       "      <td>422.0</td>\n",
       "      <td>1960.0</td>\n",
       "      <td>1059.0</td>\n",
       "      <td>NaN</td>\n",
       "      <td>655.50</td>\n",
       "      <td>5.85</td>\n",
       "      <td>79.67</td>\n",
       "      <td>370.04</td>\n",
       "      <td>199.93</td>\n",
       "    </tr>\n",
       "    <tr>\n",
       "      <th>2824</th>\n",
       "      <td>2015</td>\n",
       "      <td>OK07205</td>\n",
       "      <td>Tulsa, OK</td>\n",
       "      <td>401520.0</td>\n",
       "      <td>3628.0</td>\n",
       "      <td>55.0</td>\n",
       "      <td>365.0</td>\n",
       "      <td>2354.0</td>\n",
       "      <td>854.0</td>\n",
       "      <td>NaN</td>\n",
       "      <td>903.57</td>\n",
       "      <td>13.70</td>\n",
       "      <td>90.90</td>\n",
       "      <td>586.27</td>\n",
       "      <td>212.69</td>\n",
       "    </tr>\n",
       "    <tr>\n",
       "      <th>2825</th>\n",
       "      <td>2015</td>\n",
       "      <td>VA12800</td>\n",
       "      <td>Virginia Beach, VA</td>\n",
       "      <td>452797.0</td>\n",
       "      <td>626.0</td>\n",
       "      <td>19.0</td>\n",
       "      <td>103.0</td>\n",
       "      <td>234.0</td>\n",
       "      <td>270.0</td>\n",
       "      <td>NaN</td>\n",
       "      <td>138.25</td>\n",
       "      <td>4.20</td>\n",
       "      <td>22.75</td>\n",
       "      <td>51.68</td>\n",
       "      <td>59.63</td>\n",
       "    </tr>\n",
       "    <tr>\n",
       "      <th>2826</th>\n",
       "      <td>2015</td>\n",
       "      <td>DCMPD00</td>\n",
       "      <td>Washington, DC</td>\n",
       "      <td>672228.0</td>\n",
       "      <td>8084.0</td>\n",
       "      <td>162.0</td>\n",
       "      <td>494.0</td>\n",
       "      <td>4024.0</td>\n",
       "      <td>3404.0</td>\n",
       "      <td>NaN</td>\n",
       "      <td>1202.57</td>\n",
       "      <td>24.10</td>\n",
       "      <td>73.49</td>\n",
       "      <td>598.61</td>\n",
       "      <td>506.38</td>\n",
       "    </tr>\n",
       "    <tr>\n",
       "      <th>2827</th>\n",
       "      <td>2015</td>\n",
       "      <td>KS08703</td>\n",
       "      <td>Wichita, KS</td>\n",
       "      <td>389824.0</td>\n",
       "      <td>3839.0</td>\n",
       "      <td>27.0</td>\n",
       "      <td>349.0</td>\n",
       "      <td>2730.0</td>\n",
       "      <td>733.0</td>\n",
       "      <td>NaN</td>\n",
       "      <td>984.80</td>\n",
       "      <td>6.93</td>\n",
       "      <td>89.53</td>\n",
       "      <td>700.32</td>\n",
       "      <td>188.03</td>\n",
       "    </tr>\n",
       "    <tr>\n",
       "      <th>2828</th>\n",
       "      <td>2015</td>\n",
       "      <td>NaN</td>\n",
       "      <td>United States</td>\n",
       "      <td>NaN</td>\n",
       "      <td>1197704.0</td>\n",
       "      <td>15696.0</td>\n",
       "      <td>NaN</td>\n",
       "      <td>NaN</td>\n",
       "      <td>NaN</td>\n",
       "      <td>NaN</td>\n",
       "      <td>372.60</td>\n",
       "      <td>4.90</td>\n",
       "      <td>NaN</td>\n",
       "      <td>NaN</td>\n",
       "      <td>NaN</td>\n",
       "    </tr>\n",
       "  </tbody>\n",
       "</table>\n",
       "</div>"
      ],
      "text/plain": [
       "      report_year agency_code agency_jurisdiction  population  violent_crimes  \\\n",
       "2819         2015     WASPD00         Seattle, WA    683700.0          4093.0   \n",
       "2820         2015     MOSPD00       St. Louis, MO    317095.0          5762.0   \n",
       "2821         2015     NY05101  Suffolk County, NY   1341453.0          1675.0   \n",
       "2822         2015     FL02902           Tampa, FL    364383.0          2298.0   \n",
       "2823         2015     AZ01003          Tucson, AZ    529675.0          3472.0   \n",
       "2824         2015     OK07205           Tulsa, OK    401520.0          3628.0   \n",
       "2825         2015     VA12800  Virginia Beach, VA    452797.0           626.0   \n",
       "2826         2015     DCMPD00      Washington, DC    672228.0          8084.0   \n",
       "2827         2015     KS08703         Wichita, KS    389824.0          3839.0   \n",
       "2828         2015         NaN       United States         NaN       1197704.0   \n",
       "\n",
       "      homicides  rapes  assaults  robberies  months_reported  \\\n",
       "2819       23.0  144.0    2394.0     1532.0              NaN   \n",
       "2820      188.0  263.0    3521.0     1790.0              NaN   \n",
       "2821       24.0   79.0     895.0      677.0              NaN   \n",
       "2822       34.0   77.0    1516.0      671.0              NaN   \n",
       "2823       31.0  422.0    1960.0     1059.0              NaN   \n",
       "2824       55.0  365.0    2354.0      854.0              NaN   \n",
       "2825       19.0  103.0     234.0      270.0              NaN   \n",
       "2826      162.0  494.0    4024.0     3404.0              NaN   \n",
       "2827       27.0  349.0    2730.0      733.0              NaN   \n",
       "2828    15696.0    NaN       NaN        NaN              NaN   \n",
       "\n",
       "      crimes_percapita  homicides_percapita  rapes_percapita  \\\n",
       "2819            598.65                 3.36            21.06   \n",
       "2820           1817.12                59.29            82.94   \n",
       "2821            124.86                 1.79             5.89   \n",
       "2822            630.66                 9.33            21.13   \n",
       "2823            655.50                 5.85            79.67   \n",
       "2824            903.57                13.70            90.90   \n",
       "2825            138.25                 4.20            22.75   \n",
       "2826           1202.57                24.10            73.49   \n",
       "2827            984.80                 6.93            89.53   \n",
       "2828            372.60                 4.90              NaN   \n",
       "\n",
       "      assaults_percapita  robberies_percapita  \n",
       "2819              350.15               224.07  \n",
       "2820             1110.39               564.50  \n",
       "2821               66.72                50.47  \n",
       "2822              416.05               184.15  \n",
       "2823              370.04               199.93  \n",
       "2824              586.27               212.69  \n",
       "2825               51.68                59.63  \n",
       "2826              598.61               506.38  \n",
       "2827              700.32               188.03  \n",
       "2828                 NaN                  NaN  "
      ]
     },
     "execution_count": 9,
     "metadata": {},
     "output_type": "execute_result"
    }
   ],
   "source": [
    "df.tail(n=10)"
   ]
  },
  {
   "cell_type": "markdown",
   "metadata": {},
   "source": [
    "##### ► dataset_name.shape gives the total number of columns and rows in the dataset "
   ]
  },
  {
   "cell_type": "code",
   "execution_count": 10,
   "metadata": {},
   "outputs": [
    {
     "data": {
      "text/plain": [
       "(2829, 15)"
      ]
     },
     "execution_count": 10,
     "metadata": {},
     "output_type": "execute_result"
    }
   ],
   "source": [
    "df.shape"
   ]
  },
  {
   "cell_type": "markdown",
   "metadata": {},
   "source": [
    "##### ► len(dataset_name.index) prints the total number of rows in the dataset "
   ]
  },
  {
   "cell_type": "code",
   "execution_count": 11,
   "metadata": {},
   "outputs": [
    {
     "data": {
      "text/plain": [
       "2829"
      ]
     },
     "execution_count": 11,
     "metadata": {},
     "output_type": "execute_result"
    }
   ],
   "source": [
    "len(df.index)"
   ]
  },
  {
   "cell_type": "markdown",
   "metadata": {},
   "source": [
    "##### ► len(dataset_name.columns) prints the total number of columns in the dataset"
   ]
  },
  {
   "cell_type": "code",
   "execution_count": 12,
   "metadata": {},
   "outputs": [
    {
     "data": {
      "text/plain": [
       "15"
      ]
     },
     "execution_count": 12,
     "metadata": {},
     "output_type": "execute_result"
    }
   ],
   "source": [
    "len(df.columns)"
   ]
  },
  {
   "cell_type": "markdown",
   "metadata": {},
   "source": [
    "##### ► quantile() is used to calculate percentages. In the example below it is calculating the 20th percentile of 'rapes' column which is 154."
   ]
  },
  {
   "cell_type": "code",
   "execution_count": 13,
   "metadata": {},
   "outputs": [
    {
     "data": {
      "text/plain": [
       "154.0"
      ]
     },
     "execution_count": 13,
     "metadata": {},
     "output_type": "execute_result"
    }
   ],
   "source": [
    "df.rapes.quantile(0.2)"
   ]
  },
  {
   "cell_type": "code",
   "execution_count": 14,
   "metadata": {},
   "outputs": [
    {
     "data": {
      "text/plain": [
       "289452.2"
      ]
     },
     "execution_count": 14,
     "metadata": {},
     "output_type": "execute_result"
    }
   ],
   "source": [
    "df.population.quantile(0.1)"
   ]
  },
  {
   "cell_type": "markdown",
   "metadata": {},
   "source": [
    "##### ► dataset_name.dropna is used to drop all NA values from the dataset. It is useful as it removes residual errors from the dataset."
   ]
  },
  {
   "cell_type": "code",
   "execution_count": 15,
   "metadata": {},
   "outputs": [],
   "source": [
    "df.dropna(inplace = True)"
   ]
  },
  {
   "cell_type": "markdown",
   "metadata": {},
   "source": [
    "# 3. One column selection"
   ]
  },
  {
   "cell_type": "markdown",
   "metadata": {},
   "source": [
    "##### ► selecting population column from the dataset and printing the 10 largest entries from the 'population' column."
   ]
  },
  {
   "cell_type": "code",
   "execution_count": 16,
   "metadata": {},
   "outputs": [],
   "source": [
    "df1 = df[['population']]\n"
   ]
  },
  {
   "cell_type": "code",
   "execution_count": 17,
   "metadata": {},
   "outputs": [
    {
     "data": {
      "text/html": [
       "<div>\n",
       "<style scoped>\n",
       "    .dataframe tbody tr th:only-of-type {\n",
       "        vertical-align: middle;\n",
       "    }\n",
       "\n",
       "    .dataframe tbody tr th {\n",
       "        vertical-align: top;\n",
       "    }\n",
       "\n",
       "    .dataframe thead th {\n",
       "        text-align: right;\n",
       "    }\n",
       "</style>\n",
       "<table border=\"1\" class=\"dataframe\">\n",
       "  <thead>\n",
       "    <tr style=\"text-align: right;\">\n",
       "      <th></th>\n",
       "      <th>population</th>\n",
       "    </tr>\n",
       "  </thead>\n",
       "  <tbody>\n",
       "    <tr>\n",
       "      <th>2732</th>\n",
       "      <td>8473938.0</td>\n",
       "    </tr>\n",
       "    <tr>\n",
       "      <th>2387</th>\n",
       "      <td>8400907.0</td>\n",
       "    </tr>\n",
       "    <tr>\n",
       "      <th>2663</th>\n",
       "      <td>8396126.0</td>\n",
       "    </tr>\n",
       "    <tr>\n",
       "      <th>2318</th>\n",
       "      <td>8345075.0</td>\n",
       "    </tr>\n",
       "    <tr>\n",
       "      <th>2594</th>\n",
       "      <td>8289415.0</td>\n",
       "    </tr>\n",
       "    <tr>\n",
       "      <th>2249</th>\n",
       "      <td>8220196.0</td>\n",
       "    </tr>\n",
       "    <tr>\n",
       "      <th>2525</th>\n",
       "      <td>8211875.0</td>\n",
       "    </tr>\n",
       "    <tr>\n",
       "      <th>2456</th>\n",
       "      <td>8175133.0</td>\n",
       "    </tr>\n",
       "    <tr>\n",
       "      <th>2180</th>\n",
       "      <td>8165001.0</td>\n",
       "    </tr>\n",
       "    <tr>\n",
       "      <th>2111</th>\n",
       "      <td>8115690.0</td>\n",
       "    </tr>\n",
       "  </tbody>\n",
       "</table>\n",
       "</div>"
      ],
      "text/plain": [
       "      population\n",
       "2732   8473938.0\n",
       "2387   8400907.0\n",
       "2663   8396126.0\n",
       "2318   8345075.0\n",
       "2594   8289415.0\n",
       "2249   8220196.0\n",
       "2525   8211875.0\n",
       "2456   8175133.0\n",
       "2180   8165001.0\n",
       "2111   8115690.0"
      ]
     },
     "execution_count": 17,
     "metadata": {},
     "output_type": "execute_result"
    }
   ],
   "source": [
    "df1.nlargest(10, ['population'])"
   ]
  },
  {
   "cell_type": "markdown",
   "metadata": {},
   "source": [
    "# 4. Sort"
   ]
  },
  {
   "cell_type": "code",
   "execution_count": 76,
   "metadata": {},
   "outputs": [],
   "source": [
    "sub = df[['report_year', 'population', 'rapes', 'agency_jurisdiction', 'violent_crimes' ]].head(10)"
   ]
  },
  {
   "cell_type": "code",
   "execution_count": 77,
   "metadata": {},
   "outputs": [
    {
     "data": {
      "text/html": [
       "<div>\n",
       "<style scoped>\n",
       "    .dataframe tbody tr th:only-of-type {\n",
       "        vertical-align: middle;\n",
       "    }\n",
       "\n",
       "    .dataframe tbody tr th {\n",
       "        vertical-align: top;\n",
       "    }\n",
       "\n",
       "    .dataframe thead th {\n",
       "        text-align: right;\n",
       "    }\n",
       "</style>\n",
       "<table border=\"1\" class=\"dataframe\">\n",
       "  <thead>\n",
       "    <tr style=\"text-align: right;\">\n",
       "      <th></th>\n",
       "      <th>report_year</th>\n",
       "      <th>population</th>\n",
       "      <th>rapes</th>\n",
       "      <th>agency_jurisdiction</th>\n",
       "      <th>violent_crimes</th>\n",
       "    </tr>\n",
       "  </thead>\n",
       "  <tbody>\n",
       "    <tr>\n",
       "      <th>0</th>\n",
       "      <td>1975</td>\n",
       "      <td>286238.0</td>\n",
       "      <td>181.0</td>\n",
       "      <td>Albuquerque, NM</td>\n",
       "      <td>2383.0</td>\n",
       "    </tr>\n",
       "    <tr>\n",
       "      <th>1</th>\n",
       "      <td>1975</td>\n",
       "      <td>112478.0</td>\n",
       "      <td>28.0</td>\n",
       "      <td>Arlington, TX</td>\n",
       "      <td>278.0</td>\n",
       "    </tr>\n",
       "    <tr>\n",
       "      <th>2</th>\n",
       "      <td>1975</td>\n",
       "      <td>490584.0</td>\n",
       "      <td>443.0</td>\n",
       "      <td>Atlanta, GA</td>\n",
       "      <td>8033.0</td>\n",
       "    </tr>\n",
       "    <tr>\n",
       "      <th>3</th>\n",
       "      <td>1975</td>\n",
       "      <td>116656.0</td>\n",
       "      <td>44.0</td>\n",
       "      <td>Aurora, CO</td>\n",
       "      <td>611.0</td>\n",
       "    </tr>\n",
       "    <tr>\n",
       "      <th>4</th>\n",
       "      <td>1975</td>\n",
       "      <td>300400.0</td>\n",
       "      <td>190.0</td>\n",
       "      <td>Austin, TX</td>\n",
       "      <td>1215.0</td>\n",
       "    </tr>\n",
       "    <tr>\n",
       "      <th>5</th>\n",
       "      <td>1975</td>\n",
       "      <td>642154.0</td>\n",
       "      <td>137.0</td>\n",
       "      <td>Baltimore County, MD</td>\n",
       "      <td>1259.0</td>\n",
       "    </tr>\n",
       "    <tr>\n",
       "      <th>6</th>\n",
       "      <td>1975</td>\n",
       "      <td>864100.0</td>\n",
       "      <td>463.0</td>\n",
       "      <td>Baltimore, MD</td>\n",
       "      <td>16086.0</td>\n",
       "    </tr>\n",
       "    <tr>\n",
       "      <th>7</th>\n",
       "      <td>1975</td>\n",
       "      <td>616120.0</td>\n",
       "      <td>453.0</td>\n",
       "      <td>Boston, MA</td>\n",
       "      <td>11386.0</td>\n",
       "    </tr>\n",
       "    <tr>\n",
       "      <th>8</th>\n",
       "      <td>1975</td>\n",
       "      <td>422276.0</td>\n",
       "      <td>192.0</td>\n",
       "      <td>Buffalo, NY</td>\n",
       "      <td>3350.0</td>\n",
       "    </tr>\n",
       "    <tr>\n",
       "      <th>9</th>\n",
       "      <td>1975</td>\n",
       "      <td>262103.0</td>\n",
       "      <td>71.0</td>\n",
       "      <td>Charlotte, NC</td>\n",
       "      <td>1937.0</td>\n",
       "    </tr>\n",
       "  </tbody>\n",
       "</table>\n",
       "</div>"
      ],
      "text/plain": [
       "   report_year  population  rapes   agency_jurisdiction  violent_crimes\n",
       "0         1975    286238.0  181.0       Albuquerque, NM          2383.0\n",
       "1         1975    112478.0   28.0         Arlington, TX           278.0\n",
       "2         1975    490584.0  443.0           Atlanta, GA          8033.0\n",
       "3         1975    116656.0   44.0            Aurora, CO           611.0\n",
       "4         1975    300400.0  190.0            Austin, TX          1215.0\n",
       "5         1975    642154.0  137.0  Baltimore County, MD          1259.0\n",
       "6         1975    864100.0  463.0         Baltimore, MD         16086.0\n",
       "7         1975    616120.0  453.0            Boston, MA         11386.0\n",
       "8         1975    422276.0  192.0           Buffalo, NY          3350.0\n",
       "9         1975    262103.0   71.0         Charlotte, NC          1937.0"
      ]
     },
     "execution_count": 77,
     "metadata": {},
     "output_type": "execute_result"
    }
   ],
   "source": [
    "sub"
   ]
  },
  {
   "cell_type": "markdown",
   "metadata": {},
   "source": [
    "##### ► sort_values() function is used to sort the values of the attributes, by ascending  = False the entries are sorted in desceding order. We can see below that the values for 'population and 'rapes' are sorted in descending order."
   ]
  },
  {
   "cell_type": "code",
   "execution_count": 78,
   "metadata": {},
   "outputs": [],
   "source": [
    "sub_sort = sub.sort_values(by=['rapes', 'population'], ascending = False )"
   ]
  },
  {
   "cell_type": "code",
   "execution_count": 79,
   "metadata": {},
   "outputs": [
    {
     "data": {
      "text/html": [
       "<div>\n",
       "<style scoped>\n",
       "    .dataframe tbody tr th:only-of-type {\n",
       "        vertical-align: middle;\n",
       "    }\n",
       "\n",
       "    .dataframe tbody tr th {\n",
       "        vertical-align: top;\n",
       "    }\n",
       "\n",
       "    .dataframe thead th {\n",
       "        text-align: right;\n",
       "    }\n",
       "</style>\n",
       "<table border=\"1\" class=\"dataframe\">\n",
       "  <thead>\n",
       "    <tr style=\"text-align: right;\">\n",
       "      <th></th>\n",
       "      <th>report_year</th>\n",
       "      <th>population</th>\n",
       "      <th>rapes</th>\n",
       "      <th>agency_jurisdiction</th>\n",
       "      <th>violent_crimes</th>\n",
       "    </tr>\n",
       "  </thead>\n",
       "  <tbody>\n",
       "    <tr>\n",
       "      <th>6</th>\n",
       "      <td>1975</td>\n",
       "      <td>864100.0</td>\n",
       "      <td>463.0</td>\n",
       "      <td>Baltimore, MD</td>\n",
       "      <td>16086.0</td>\n",
       "    </tr>\n",
       "    <tr>\n",
       "      <th>7</th>\n",
       "      <td>1975</td>\n",
       "      <td>616120.0</td>\n",
       "      <td>453.0</td>\n",
       "      <td>Boston, MA</td>\n",
       "      <td>11386.0</td>\n",
       "    </tr>\n",
       "    <tr>\n",
       "      <th>2</th>\n",
       "      <td>1975</td>\n",
       "      <td>490584.0</td>\n",
       "      <td>443.0</td>\n",
       "      <td>Atlanta, GA</td>\n",
       "      <td>8033.0</td>\n",
       "    </tr>\n",
       "    <tr>\n",
       "      <th>8</th>\n",
       "      <td>1975</td>\n",
       "      <td>422276.0</td>\n",
       "      <td>192.0</td>\n",
       "      <td>Buffalo, NY</td>\n",
       "      <td>3350.0</td>\n",
       "    </tr>\n",
       "    <tr>\n",
       "      <th>4</th>\n",
       "      <td>1975</td>\n",
       "      <td>300400.0</td>\n",
       "      <td>190.0</td>\n",
       "      <td>Austin, TX</td>\n",
       "      <td>1215.0</td>\n",
       "    </tr>\n",
       "    <tr>\n",
       "      <th>0</th>\n",
       "      <td>1975</td>\n",
       "      <td>286238.0</td>\n",
       "      <td>181.0</td>\n",
       "      <td>Albuquerque, NM</td>\n",
       "      <td>2383.0</td>\n",
       "    </tr>\n",
       "    <tr>\n",
       "      <th>5</th>\n",
       "      <td>1975</td>\n",
       "      <td>642154.0</td>\n",
       "      <td>137.0</td>\n",
       "      <td>Baltimore County, MD</td>\n",
       "      <td>1259.0</td>\n",
       "    </tr>\n",
       "    <tr>\n",
       "      <th>9</th>\n",
       "      <td>1975</td>\n",
       "      <td>262103.0</td>\n",
       "      <td>71.0</td>\n",
       "      <td>Charlotte, NC</td>\n",
       "      <td>1937.0</td>\n",
       "    </tr>\n",
       "    <tr>\n",
       "      <th>3</th>\n",
       "      <td>1975</td>\n",
       "      <td>116656.0</td>\n",
       "      <td>44.0</td>\n",
       "      <td>Aurora, CO</td>\n",
       "      <td>611.0</td>\n",
       "    </tr>\n",
       "    <tr>\n",
       "      <th>1</th>\n",
       "      <td>1975</td>\n",
       "      <td>112478.0</td>\n",
       "      <td>28.0</td>\n",
       "      <td>Arlington, TX</td>\n",
       "      <td>278.0</td>\n",
       "    </tr>\n",
       "  </tbody>\n",
       "</table>\n",
       "</div>"
      ],
      "text/plain": [
       "   report_year  population  rapes   agency_jurisdiction  violent_crimes\n",
       "6         1975    864100.0  463.0         Baltimore, MD         16086.0\n",
       "7         1975    616120.0  453.0            Boston, MA         11386.0\n",
       "2         1975    490584.0  443.0           Atlanta, GA          8033.0\n",
       "8         1975    422276.0  192.0           Buffalo, NY          3350.0\n",
       "4         1975    300400.0  190.0            Austin, TX          1215.0\n",
       "0         1975    286238.0  181.0       Albuquerque, NM          2383.0\n",
       "5         1975    642154.0  137.0  Baltimore County, MD          1259.0\n",
       "9         1975    262103.0   71.0         Charlotte, NC          1937.0\n",
       "3         1975    116656.0   44.0            Aurora, CO           611.0\n",
       "1         1975    112478.0   28.0         Arlington, TX           278.0"
      ]
     },
     "execution_count": 79,
     "metadata": {},
     "output_type": "execute_result"
    }
   ],
   "source": [
    "sub_sort"
   ]
  },
  {
   "cell_type": "markdown",
   "metadata": {},
   "source": [
    "# Series"
   ]
  },
  {
   "cell_type": "markdown",
   "metadata": {},
   "source": [
    "##### ► pd.Series() is nothing but a column in an excel sheet. It is a one-dimensional labeled array capable of holding data of any type "
   ]
  },
  {
   "cell_type": "code",
   "execution_count": 22,
   "metadata": {},
   "outputs": [],
   "source": [
    "ser1 = pd.Series(sub_sort['population'])"
   ]
  },
  {
   "cell_type": "code",
   "execution_count": 23,
   "metadata": {},
   "outputs": [
    {
     "name": "stdout",
     "output_type": "stream",
     "text": [
      "6    864100.0\n",
      "7    616120.0\n",
      "2    490584.0\n",
      "8    422276.0\n",
      "4    300400.0\n",
      "Name: population, dtype: float64\n"
     ]
    }
   ],
   "source": [
    "print(ser1[:5])"
   ]
  },
  {
   "cell_type": "markdown",
   "metadata": {},
   "source": [
    "##### ► This iloc() allows us to retrieve data by position"
   ]
  },
  {
   "cell_type": "code",
   "execution_count": 24,
   "metadata": {},
   "outputs": [
    {
     "data": {
      "text/plain": [
       "6    864100.0\n",
       "7    616120.0\n",
       "2    490584.0\n",
       "8    422276.0\n",
       "4    300400.0\n",
       "0    286238.0\n",
       "Name: population, dtype: float64"
      ]
     },
     "execution_count": 24,
     "metadata": {},
     "output_type": "execute_result"
    }
   ],
   "source": [
    "ser1.iloc[0:6]"
   ]
  },
  {
   "cell_type": "markdown",
   "metadata": {},
   "source": [
    "##### ► Shows the sorted series of 'rapes' column from dataset in descending order."
   ]
  },
  {
   "cell_type": "code",
   "execution_count": 25,
   "metadata": {},
   "outputs": [],
   "source": [
    "ser2 = pd.Series(sub_sort['rapes'])"
   ]
  },
  {
   "cell_type": "code",
   "execution_count": 26,
   "metadata": {},
   "outputs": [
    {
     "data": {
      "text/plain": [
       "6    463.0\n",
       "7    453.0\n",
       "2    443.0\n",
       "8    192.0\n",
       "4    190.0\n",
       "0    181.0\n",
       "5    137.0\n",
       "9     71.0\n",
       "3     44.0\n",
       "1     28.0\n",
       "Name: rapes, dtype: float64"
      ]
     },
     "execution_count": 26,
     "metadata": {},
     "output_type": "execute_result"
    }
   ],
   "source": [
    "ser2"
   ]
  },
  {
   "cell_type": "code",
   "execution_count": 27,
   "metadata": {},
   "outputs": [],
   "source": [
    "ser3 = pd.Series(sub_sort['report_year'])"
   ]
  },
  {
   "cell_type": "code",
   "execution_count": 28,
   "metadata": {},
   "outputs": [
    {
     "data": {
      "text/plain": [
       "6    1975\n",
       "7    1975\n",
       "2    1975\n",
       "8    1975\n",
       "4    1975\n",
       "0    1975\n",
       "5    1975\n",
       "9    1975\n",
       "3    1975\n",
       "1    1975\n",
       "Name: report_year, dtype: int64"
      ]
     },
     "execution_count": 28,
     "metadata": {},
     "output_type": "execute_result"
    }
   ],
   "source": [
    "ser3"
   ]
  },
  {
   "cell_type": "code",
   "execution_count": 80,
   "metadata": {},
   "outputs": [],
   "source": [
    "ser4 = pd.Series(sub_sort['agency_jurisdiction'])"
   ]
  },
  {
   "cell_type": "code",
   "execution_count": 81,
   "metadata": {},
   "outputs": [
    {
     "data": {
      "text/plain": [
       "6           Baltimore, MD\n",
       "7              Boston, MA\n",
       "2             Atlanta, GA\n",
       "8             Buffalo, NY\n",
       "4              Austin, TX\n",
       "0         Albuquerque, NM\n",
       "5    Baltimore County, MD\n",
       "9           Charlotte, NC\n",
       "3              Aurora, CO\n",
       "1           Arlington, TX\n",
       "Name: agency_jurisdiction, dtype: object"
      ]
     },
     "execution_count": 81,
     "metadata": {},
     "output_type": "execute_result"
    }
   ],
   "source": [
    "ser4"
   ]
  },
  {
   "cell_type": "code",
   "execution_count": 31,
   "metadata": {},
   "outputs": [],
   "source": [
    "ser5 = pd.Series(sub_sort['violent_crimes'])"
   ]
  },
  {
   "cell_type": "code",
   "execution_count": 32,
   "metadata": {},
   "outputs": [
    {
     "data": {
      "text/plain": [
       "6    16086.0\n",
       "7    11386.0\n",
       "2     8033.0\n",
       "8     3350.0\n",
       "4     1215.0\n",
       "0     2383.0\n",
       "5     1259.0\n",
       "9     1937.0\n",
       "3      611.0\n",
       "1      278.0\n",
       "Name: violent_crimes, dtype: float64"
      ]
     },
     "execution_count": 32,
     "metadata": {},
     "output_type": "execute_result"
    }
   ],
   "source": [
    "ser5"
   ]
  },
  {
   "cell_type": "markdown",
   "metadata": {},
   "source": [
    "##### ► .add is used to add two distinct series."
   ]
  },
  {
   "cell_type": "code",
   "execution_count": 84,
   "metadata": {},
   "outputs": [
    {
     "data": {
      "text/plain": [
       "6    2438.0\n",
       "7    2428.0\n",
       "2    2418.0\n",
       "8    2167.0\n",
       "4    2165.0\n",
       "0    2156.0\n",
       "5    2112.0\n",
       "9    2046.0\n",
       "3    2019.0\n",
       "1    2003.0\n",
       "dtype: float64"
      ]
     },
     "execution_count": 84,
     "metadata": {},
     "output_type": "execute_result"
    }
   ],
   "source": [
    "ser2.add(ser3, fill_value=0)"
   ]
  },
  {
   "cell_type": "markdown",
   "metadata": {},
   "source": [
    "# 5. Plot"
   ]
  },
  {
   "cell_type": "code",
   "execution_count": 34,
   "metadata": {},
   "outputs": [],
   "source": [
    "import matplotlib.pyplot as plt"
   ]
  },
  {
   "cell_type": "markdown",
   "metadata": {},
   "source": [
    "##### ► This is a scatter plot which shows population Vs rapes visualization  on the entire dataset "
   ]
  },
  {
   "cell_type": "code",
   "execution_count": 109,
   "metadata": {},
   "outputs": [
    {
     "data": {
      "text/plain": [
       "<matplotlib.axes._subplots.AxesSubplot at 0x213d3a352e8>"
      ]
     },
     "execution_count": 109,
     "metadata": {},
     "output_type": "execute_result"
    },
    {
     "data": {
      "image/png": "[encoded data removed]",
      "text/plain": [
       "<Figure size 432x288 with 1 Axes>"
      ]
     },
     "metadata": {},
     "output_type": "display_data"
    }
   ],
   "source": [
    "df.plot(kind='scatter',x='report_year',y='rapes',color='grey')"
   ]
  },
  {
   "cell_type": "markdown",
   "metadata": {},
   "source": [
    "##### ► This is a bar plot which shows voilent crimes Vs report_year from the dataset."
   ]
  },
  {
   "cell_type": "code",
   "execution_count": 37,
   "metadata": {},
   "outputs": [
    {
     "data": {
      "text/plain": [
       "<matplotlib.axes._subplots.AxesSubplot at 0x213b1817780>"
      ]
     },
     "execution_count": 37,
     "metadata": {},
     "output_type": "execute_result"
    },
    {
     "data": {
      "image/png": "[encoded data removed]",
      "text/plain": [
       "<Figure size 432x288 with 1 Axes>"
      ]
     },
     "metadata": {
      "needs_background": "light"
     },
     "output_type": "display_data"
    }
   ],
   "source": [
    "sub.plot(kind='bar',x='report_year',y='violent_crimes')"
   ]
  },
  {
   "cell_type": "markdown",
   "metadata": {},
   "source": [
    "##### ► This is a hexbin scatter plot for rapes Vs report_year from entire dataset."
   ]
  },
  {
   "cell_type": "code",
   "execution_count": 116,
   "metadata": {},
   "outputs": [
    {
     "data": {
      "text/plain": [
       "<matplotlib.axes._subplots.AxesSubplot at 0x213d2fceb38>"
      ]
     },
     "execution_count": 116,
     "metadata": {},
     "output_type": "execute_result"
    },
    {
     "data": {
      "image/png": "[encoded data removed]",
      "text/plain": [
       "<Figure size 432x288 with 2 Axes>"
      ]
     },
     "metadata": {},
     "output_type": "display_data"
    }
   ],
   "source": [
    "df.plot.hexbin(x='report_year', y='rapes', gridsize=25)"
   ]
  },
  {
   "cell_type": "markdown",
   "metadata": {},
   "source": [
    "##### ► This is a pie chart for series 5 created for voilent_crimes dataset."
   ]
  },
  {
   "cell_type": "code",
   "execution_count": 68,
   "metadata": {},
   "outputs": [
    {
     "data": {
      "text/plain": [
       "array([<matplotlib.axes._subplots.AxesSubplot object at 0x00000213CBD206A0>],\n",
       "      dtype=object)"
      ]
     },
     "execution_count": 68,
     "metadata": {},
     "output_type": "execute_result"
    },
    {
     "data": {
      "image/png": "[encoded data removed]",
      "text/plain": [
       "<Figure size 432x432 with 1 Axes>"
      ]
     },
     "metadata": {},
     "output_type": "display_data"
    }
   ],
   "source": [
    "ser5.plot.pie(figsize=(6, 6), subplots = True)"
   ]
  },
  {
   "cell_type": "markdown",
   "metadata": {},
   "source": [
    "# 6. Summary  "
   ]
  },
  {
   "cell_type": "markdown",
   "metadata": {},
   "source": [
    "⦿ From this report we can state that there was maximum crime rate from year 1975 to 2000 and then it gradually decreased. In this report analysis we could conclude that there are major crimes in Newyork city with maximum rape victims. We can see after 2000 there is gradual decreases in the rape. Additionally there are voilent crimes at maximum in Newyork city too boasting a maximum victims. Even assualts are maximum in Newyork that came with a hype form 1990-2010.\n",
    "\n",
    "⦿ However there are states like  Minneapolis, MN which are lesser in crime rates hence require no extra police enforcements. It is evident that Newyork is leading in crime rates in roberries and assault as well. It is clear from the findings that police enforcement optimization should be more prone in Newyork, NY state to prevent criminal activities. Therefore from this analysis one can get a glimpse of criminal activities from the 'agency_jurisdiction' column differing state-wise."
   ]
  },
  {
   "cell_type": "markdown",
   "metadata": {},
   "source": [
    "# 7. Recommendation "
   ]
  },
  {
   "cell_type": "markdown",
   "metadata": {},
   "source": [
    "⦿ From the above statistical records it is clear that Newyork tops in crime rates hence police enforcements should be provided. Moreover Newyork city tops in assaults, robberies and rapes comparing to other states in USA. There are other states as well which have higher criminal rates like Chicago, Houstan, Los Angeles and Philadehia but moderate defensive meausres could be taken to prevent such criminal activities. \n",
    "\n",
    "⦿ It should be noted that Newyork being greatest in population has highest number of rape, robberries, assaults crimes maximum noticed since the few years and hence I believe police should be enforced on such regions to prevent or eradicate criminal activities completly. This report gives an insight on why and how Newyork is the mostlly aquainted wih criminals and why defensive measures should be taken in account.\n"
   ]
  },
  {
   "cell_type": "code",
   "execution_count": null,
   "metadata": {},
   "outputs": [],
   "source": []
  }
 ],
 "metadata": {
  "kernelspec": {
   "display_name": "Python 3",
   "language": "python",
   "name": "python3"
  },
  "language_info": {
   "codemirror_mode": {
    "name": "ipython",
    "version": 3
   },
   "file_extension": ".py",
   "mimetype": "text/x-python",
   "name": "python",
   "nbconvert_exporter": "python",
   "pygments_lexer": "ipython3",
   "version": "3.7.3"
  }
 },
 "nbformat": 4,
 "nbformat_minor": 2
}
