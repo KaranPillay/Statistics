{
 "cells": [
  {
   "cell_type": "markdown",
   "metadata": {},
   "source": [
    "## Karan Ravindran Pillay     \n",
    "## Student ID: 989357386\n",
    "\n",
    "\n",
    "# SPONSORSHIP FOR NEXT OLYMPIC "
   ]
  },
  {
   "cell_type": "markdown",
   "metadata": {},
   "source": [
    "<img src=\"https://upload.wikimedia.org/wikipedia/commons/5/5c/Olympic_rings_without_rims.svg\">"
   ]
  },
  {
   "cell_type": "markdown",
   "metadata": {},
   "source": [
    "## 1. Objective:"
   ]
  },
  {
   "cell_type": "markdown",
   "metadata": {},
   "source": [
    "» The objective of the project is to analyze the data set and predict the right sport or athlete to sponsor. According to the analysis of data using a statistical approch Kellog's will sponsor athletes based on their performance respective of many factors like medals won, age group of athlete and year in which the medals were won, based on the analysis we have to find the best fit set of data from the abundant dataset given. <br/>\n",
    "\n",
    "» Kellogg's wants statistical record of the athletes for sponsorship to next olympic games, there are mulptiple parameters that could be considered to fetch optimum results from the dataset. From this research we can figure out the athletes who are most eligible for sponsorship.<br/>\n",
    "\n",
    "» In this research I'am using statistical measures to come to a conclusion stating which set of group is eligible for sponsorship from Kellogg's for the next olympics. I have used bar graphs to reach out to my prediction that vividly shows set of group that would be a better selection among all. This research uses libraries from R to plot bar graph making it distinctive from other graphical interpretations.<br/>\n"
   ]
  },
  {
   "cell_type": "code",
   "execution_count": 4,
   "metadata": {},
   "outputs": [],
   "source": [
    "d <- read.csv(file.choose())"
   ]
  },
  {
   "cell_type": "markdown",
   "metadata": {},
   "source": [
    "## 2. Data Exploration"
   ]
  },
  {
   "cell_type": "code",
   "execution_count": 6,
   "metadata": {},
   "outputs": [
    {
     "data": {
      "text/html": [
       "271116"
      ],
      "text/latex": [
       "271116"
      ],
      "text/markdown": [
       "271116"
      ],
      "text/plain": [
       "[1] 271116"
      ]
     },
     "metadata": {},
     "output_type": "display_data"
    }
   ],
   "source": [
    "nrow(d)"
   ]
  },
  {
   "cell_type": "markdown",
   "metadata": {},
   "source": [
    "###### 2.1 This function is used to determine total number of rows in a given dataset"
   ]
  },
  {
   "cell_type": "code",
   "execution_count": 7,
   "metadata": {},
   "outputs": [
    {
     "data": {
      "text/html": [
       "15"
      ],
      "text/latex": [
       "15"
      ],
      "text/markdown": [
       "15"
      ],
      "text/plain": [
       "[1] 15"
      ]
     },
     "metadata": {},
     "output_type": "display_data"
    }
   ],
   "source": [
    "ncol(d)"
   ]
  },
  {
   "cell_type": "markdown",
   "metadata": {},
   "source": [
    "###### 2.2 This function is used to determine total number of columns in a given dataset"
   ]
  },
  {
   "cell_type": "code",
   "execution_count": 8,
   "metadata": {},
   "outputs": [
    {
     "data": {
      "text/html": [
       "<dl class=dl-horizontal>\n",
       "\t<dt>0%</dt>\n",
       "\t\t<dd>25</dd>\n",
       "\t<dt>25%</dt>\n",
       "\t\t<dd>60</dd>\n",
       "\t<dt>50%</dt>\n",
       "\t\t<dd>70</dd>\n",
       "\t<dt>75%</dt>\n",
       "\t\t<dd>79</dd>\n",
       "\t<dt>100%</dt>\n",
       "\t\t<dd>214</dd>\n",
       "</dl>\n"
      ],
      "text/latex": [
       "\\begin{description*}\n",
       "\\item[0\\textbackslash{}\\%] 25\n",
       "\\item[25\\textbackslash{}\\%] 60\n",
       "\\item[50\\textbackslash{}\\%] 70\n",
       "\\item[75\\textbackslash{}\\%] 79\n",
       "\\item[100\\textbackslash{}\\%] 214\n",
       "\\end{description*}\n"
      ],
      "text/markdown": [
       "0%\n",
       ":   2525%\n",
       ":   6050%\n",
       ":   7075%\n",
       ":   79100%\n",
       ":   214\n",
       "\n"
      ],
      "text/plain": [
       "  0%  25%  50%  75% 100% \n",
       "  25   60   70   79  214 "
      ]
     },
     "metadata": {},
     "output_type": "display_data"
    }
   ],
   "source": [
    "f <- d$Weight\n",
    "quantile(f, na.rm = TRUE)"
   ]
  },
  {
   "cell_type": "markdown",
   "metadata": {},
   "source": [
    "###### 2.3 Quantile function is used to find the percentile. I have calculated percentile of  weight column from the given dataset."
   ]
  },
  {
   "cell_type": "code",
   "execution_count": 9,
   "metadata": {},
   "outputs": [
    {
     "data": {
      "text/plain": [
       "   Min. 1st Qu.  Median    Mean 3rd Qu.    Max.    NA's \n",
       "   25.0    60.0    70.0    70.7    79.0   214.0   62875 "
      ]
     },
     "metadata": {},
     "output_type": "display_data"
    }
   ],
   "source": [
    "summary(d$Weight)"
   ]
  },
  {
   "cell_type": "markdown",
   "metadata": {},
   "source": [
    "###### 2.4 Summary function is a generic function used to produce result summaries of the results of various model fitting functions. The function invokes particular methods which depend on the class of the first argument."
   ]
  },
  {
   "cell_type": "code",
   "execution_count": 10,
   "metadata": {},
   "outputs": [
    {
     "data": {
      "text/plain": [
       "   Min. 1st Qu.  Median    Mean 3rd Qu.    Max.    NA's \n",
       "  127.0   168.0   175.0   175.3   183.0   226.0   60171 "
      ]
     },
     "metadata": {},
     "output_type": "display_data"
    }
   ],
   "source": [
    "summary(d$Height)"
   ]
  },
  {
   "cell_type": "code",
   "execution_count": 11,
   "metadata": {},
   "outputs": [
    {
     "data": {
      "text/html": [
       "<dl class=dl-horizontal>\n",
       "\t<dt>F</dt>\n",
       "\t\t<dd>74522</dd>\n",
       "\t<dt>M</dt>\n",
       "\t\t<dd>196594</dd>\n",
       "</dl>\n"
      ],
      "text/latex": [
       "\\begin{description*}\n",
       "\\item[F] 74522\n",
       "\\item[M] 196594\n",
       "\\end{description*}\n"
      ],
      "text/markdown": [
       "F\n",
       ":   74522M\n",
       ":   196594\n",
       "\n"
      ],
      "text/plain": [
       "     F      M \n",
       " 74522 196594 "
      ]
     },
     "metadata": {},
     "output_type": "display_data"
    }
   ],
   "source": [
    "summary(d$Sex)"
   ]
  },
  {
   "cell_type": "code",
   "execution_count": 12,
   "metadata": {},
   "outputs": [
    {
     "data": {
      "text/html": [
       "<dl class=dl-horizontal>\n",
       "\t<dt>Bronze</dt>\n",
       "\t\t<dd>13295</dd>\n",
       "\t<dt>Gold</dt>\n",
       "\t\t<dd>13372</dd>\n",
       "\t<dt>Silver</dt>\n",
       "\t\t<dd>13116</dd>\n",
       "\t<dt>NA's</dt>\n",
       "\t\t<dd>231333</dd>\n",
       "</dl>\n"
      ],
      "text/latex": [
       "\\begin{description*}\n",
       "\\item[Bronze] 13295\n",
       "\\item[Gold] 13372\n",
       "\\item[Silver] 13116\n",
       "\\item[NA's] 231333\n",
       "\\end{description*}\n"
      ],
      "text/markdown": [
       "Bronze\n",
       ":   13295Gold\n",
       ":   13372Silver\n",
       ":   13116NA's\n",
       ":   231333\n",
       "\n"
      ],
      "text/plain": [
       "Bronze   Gold Silver   NA's \n",
       " 13295  13372  13116 231333 "
      ]
     },
     "metadata": {},
     "output_type": "display_data"
    }
   ],
   "source": [
    "summary(d$Medal)"
   ]
  },
  {
   "cell_type": "markdown",
   "metadata": {},
   "source": [
    "## 3. One Column Selection "
   ]
  },
  {
   "cell_type": "code",
   "execution_count": 33,
   "metadata": {},
   "outputs": [],
   "source": [
    "null<-na.omit(d)\n"
   ]
  },
  {
   "cell_type": "code",
   "execution_count": 34,
   "metadata": {},
   "outputs": [
    {
     "data": {
      "text/html": [
       "<ol class=list-inline>\n",
       "\t<li>66</li>\n",
       "\t<li>61</li>\n",
       "\t<li>61</li>\n",
       "\t<li>60</li>\n",
       "\t<li>60</li>\n",
       "\t<li>60</li>\n",
       "\t<li>59</li>\n",
       "\t<li>58</li>\n",
       "\t<li>58</li>\n",
       "\t<li>58</li>\n",
       "</ol>\n"
      ],
      "text/latex": [
       "\\begin{enumerate*}\n",
       "\\item 66\n",
       "\\item 61\n",
       "\\item 61\n",
       "\\item 60\n",
       "\\item 60\n",
       "\\item 60\n",
       "\\item 59\n",
       "\\item 58\n",
       "\\item 58\n",
       "\\item 58\n",
       "\\end{enumerate*}\n"
      ],
      "text/markdown": [
       "1. 66\n",
       "2. 61\n",
       "3. 61\n",
       "4. 60\n",
       "5. 60\n",
       "6. 60\n",
       "7. 59\n",
       "8. 58\n",
       "9. 58\n",
       "10. 58\n",
       "\n",
       "\n"
      ],
      "text/plain": [
       " [1] 66 61 61 60 60 60 59 58 58 58"
      ]
     },
     "metadata": {},
     "output_type": "display_data"
    }
   ],
   "source": [
    "sort1<- sort(null$Age, decreasing = TRUE)\n",
    "head(sort1,10)"
   ]
  },
  {
   "cell_type": "markdown",
   "metadata": {},
   "source": [
    "###### 3.1 na.omit() is used to omit the NA(missing values) from the given data set, then i used sort function to sort the age and weight in decreasing order of top 10 entries."
   ]
  },
  {
   "cell_type": "markdown",
   "metadata": {},
   "source": [
    "## 4. Series "
   ]
  },
  {
   "cell_type": "code",
   "execution_count": 109,
   "metadata": {
    "scrolled": false
   },
   "outputs": [
    {
     "data": {
      "text/html": [
       "<table>\n",
       "<thead><tr><th scope=col>b.Name</th><th scope=col>b.Year</th><th scope=col>b.Age</th><th scope=col>b.Medal</th><th scope=col>b.Sport</th></tr></thead>\n",
       "<tbody>\n",
       "\t<tr><td>Juhamatti Tapio Aaltonen               </td><td>2014                                   </td><td>28                                     </td><td>Bronze                                 </td><td>Ice Hockey                             </td></tr>\n",
       "\t<tr><td>Paavo Johannes Aaltonen                </td><td>1948                                   </td><td>28                                     </td><td>Bronze                                 </td><td>Gymnastics                             </td></tr>\n",
       "\t<tr><td>Paavo Johannes Aaltonen                </td><td>1948                                   </td><td>28                                     </td><td>Gold                                   </td><td>Gymnastics                             </td></tr>\n",
       "\t<tr><td>Paavo Johannes Aaltonen                </td><td>1948                                   </td><td>28                                     </td><td>Gold                                   </td><td>Gymnastics                             </td></tr>\n",
       "\t<tr><td>Paavo Johannes Aaltonen                </td><td>1948                                   </td><td>28                                     </td><td>Gold                                   </td><td>Gymnastics                             </td></tr>\n",
       "\t<tr><td>Paavo Johannes Aaltonen                </td><td>1952                                   </td><td>32                                     </td><td>Bronze                                 </td><td>Gymnastics                             </td></tr>\n",
       "\t<tr><td>Kjetil Andr Aamodt                     </td><td>1992                                   </td><td>20                                     </td><td>Gold                                   </td><td>Alpine Skiing                          </td></tr>\n",
       "\t<tr><td>Kjetil Andr Aamodt                     </td><td>1992                                   </td><td>20                                     </td><td>Bronze                                 </td><td>Alpine Skiing                          </td></tr>\n",
       "\t<tr><td>Kjetil Andr Aamodt                     </td><td>1994                                   </td><td>22                                     </td><td>Silver                                 </td><td>Alpine Skiing                          </td></tr>\n",
       "\t<tr><td>Kjetil Andr Aamodt                     </td><td>1994                                   </td><td>22                                     </td><td>Bronze                                 </td><td>Alpine Skiing                          </td></tr>\n",
       "\t<tr><td>Kjetil Andr Aamodt                     </td><td>1994                                   </td><td>22                                     </td><td>Silver                                 </td><td>Alpine Skiing                          </td></tr>\n",
       "\t<tr><td>Kjetil Andr Aamodt                     </td><td>2002                                   </td><td>30                                     </td><td>Gold                                   </td><td>Alpine Skiing                          </td></tr>\n",
       "\t<tr><td>Kjetil Andr Aamodt                     </td><td>2002                                   </td><td>30                                     </td><td>Gold                                   </td><td>Alpine Skiing                          </td></tr>\n",
       "\t<tr><td>Kjetil Andr Aamodt                     </td><td>2006                                   </td><td>34                                     </td><td>Gold                                   </td><td>Alpine Skiing                          </td></tr>\n",
       "\t<tr><td>Pepijn Aardewijn                       </td><td>1996                                   </td><td>26                                     </td><td>Silver                                 </td><td>Rowing                                 </td></tr>\n",
       "\t<tr><td>Ann Kristin Aarnes                     </td><td>1996                                   </td><td>23                                     </td><td>Bronze                                 </td><td>Football                               </td></tr>\n",
       "\t<tr><td>Giovanni Abagnale                      </td><td>2016                                   </td><td>21                                     </td><td>Bronze                                 </td><td>Rowing                                 </td></tr>\n",
       "\t<tr><td>Jos Luis Abajo Gmez                    </td><td>2008                                   </td><td>30                                     </td><td>Bronze                                 </td><td>Fencing                                </td></tr>\n",
       "\t<tr><td>Patimat Abakarova                      </td><td>2016                                   </td><td>21                                     </td><td>Bronze                                 </td><td>Taekwondo                              </td></tr>\n",
       "\t<tr><td>Mariya Vasilyevna Abakumova (-Tarabina)</td><td>2008                                   </td><td>22                                     </td><td>Silver                                 </td><td>Athletics                              </td></tr>\n",
       "</tbody>\n",
       "</table>\n"
      ],
      "text/latex": [
       "\\begin{tabular}{r|lllll}\n",
       " b.Name & b.Year & b.Age & b.Medal & b.Sport\\\\\n",
       "\\hline\n",
       "\t Juhamatti Tapio Aaltonen                & 2014                                    & 28                                      & Bronze                                  & Ice Hockey                             \\\\\n",
       "\t Paavo Johannes Aaltonen                 & 1948                                    & 28                                      & Bronze                                  & Gymnastics                             \\\\\n",
       "\t Paavo Johannes Aaltonen                 & 1948                                    & 28                                      & Gold                                    & Gymnastics                             \\\\\n",
       "\t Paavo Johannes Aaltonen                 & 1948                                    & 28                                      & Gold                                    & Gymnastics                             \\\\\n",
       "\t Paavo Johannes Aaltonen                 & 1948                                    & 28                                      & Gold                                    & Gymnastics                             \\\\\n",
       "\t Paavo Johannes Aaltonen                 & 1952                                    & 32                                      & Bronze                                  & Gymnastics                             \\\\\n",
       "\t Kjetil Andr Aamodt                      & 1992                                    & 20                                      & Gold                                    & Alpine Skiing                          \\\\\n",
       "\t Kjetil Andr Aamodt                      & 1992                                    & 20                                      & Bronze                                  & Alpine Skiing                          \\\\\n",
       "\t Kjetil Andr Aamodt                      & 1994                                    & 22                                      & Silver                                  & Alpine Skiing                          \\\\\n",
       "\t Kjetil Andr Aamodt                      & 1994                                    & 22                                      & Bronze                                  & Alpine Skiing                          \\\\\n",
       "\t Kjetil Andr Aamodt                      & 1994                                    & 22                                      & Silver                                  & Alpine Skiing                          \\\\\n",
       "\t Kjetil Andr Aamodt                      & 2002                                    & 30                                      & Gold                                    & Alpine Skiing                          \\\\\n",
       "\t Kjetil Andr Aamodt                      & 2002                                    & 30                                      & Gold                                    & Alpine Skiing                          \\\\\n",
       "\t Kjetil Andr Aamodt                      & 2006                                    & 34                                      & Gold                                    & Alpine Skiing                          \\\\\n",
       "\t Pepijn Aardewijn                        & 1996                                    & 26                                      & Silver                                  & Rowing                                 \\\\\n",
       "\t Ann Kristin Aarnes                      & 1996                                    & 23                                      & Bronze                                  & Football                               \\\\\n",
       "\t Giovanni Abagnale                       & 2016                                    & 21                                      & Bronze                                  & Rowing                                 \\\\\n",
       "\t Jos Luis Abajo Gmez                     & 2008                                    & 30                                      & Bronze                                  & Fencing                                \\\\\n",
       "\t Patimat Abakarova                       & 2016                                    & 21                                      & Bronze                                  & Taekwondo                              \\\\\n",
       "\t Mariya Vasilyevna Abakumova (-Tarabina) & 2008                                    & 22                                      & Silver                                  & Athletics                              \\\\\n",
       "\\end{tabular}\n"
      ],
      "text/markdown": [
       "\n",
       "| b.Name | b.Year | b.Age | b.Medal | b.Sport |\n",
       "|---|---|---|---|---|\n",
       "| Juhamatti Tapio Aaltonen                | 2014                                    | 28                                      | Bronze                                  | Ice Hockey                              |\n",
       "| Paavo Johannes Aaltonen                 | 1948                                    | 28                                      | Bronze                                  | Gymnastics                              |\n",
       "| Paavo Johannes Aaltonen                 | 1948                                    | 28                                      | Gold                                    | Gymnastics                              |\n",
       "| Paavo Johannes Aaltonen                 | 1948                                    | 28                                      | Gold                                    | Gymnastics                              |\n",
       "| Paavo Johannes Aaltonen                 | 1948                                    | 28                                      | Gold                                    | Gymnastics                              |\n",
       "| Paavo Johannes Aaltonen                 | 1952                                    | 32                                      | Bronze                                  | Gymnastics                              |\n",
       "| Kjetil Andr Aamodt                      | 1992                                    | 20                                      | Gold                                    | Alpine Skiing                           |\n",
       "| Kjetil Andr Aamodt                      | 1992                                    | 20                                      | Bronze                                  | Alpine Skiing                           |\n",
       "| Kjetil Andr Aamodt                      | 1994                                    | 22                                      | Silver                                  | Alpine Skiing                           |\n",
       "| Kjetil Andr Aamodt                      | 1994                                    | 22                                      | Bronze                                  | Alpine Skiing                           |\n",
       "| Kjetil Andr Aamodt                      | 1994                                    | 22                                      | Silver                                  | Alpine Skiing                           |\n",
       "| Kjetil Andr Aamodt                      | 2002                                    | 30                                      | Gold                                    | Alpine Skiing                           |\n",
       "| Kjetil Andr Aamodt                      | 2002                                    | 30                                      | Gold                                    | Alpine Skiing                           |\n",
       "| Kjetil Andr Aamodt                      | 2006                                    | 34                                      | Gold                                    | Alpine Skiing                           |\n",
       "| Pepijn Aardewijn                        | 1996                                    | 26                                      | Silver                                  | Rowing                                  |\n",
       "| Ann Kristin Aarnes                      | 1996                                    | 23                                      | Bronze                                  | Football                                |\n",
       "| Giovanni Abagnale                       | 2016                                    | 21                                      | Bronze                                  | Rowing                                  |\n",
       "| Jos Luis Abajo Gmez                     | 2008                                    | 30                                      | Bronze                                  | Fencing                                 |\n",
       "| Patimat Abakarova                       | 2016                                    | 21                                      | Bronze                                  | Taekwondo                               |\n",
       "| Mariya Vasilyevna Abakumova (-Tarabina) | 2008                                    | 22                                      | Silver                                  | Athletics                               |\n",
       "\n"
      ],
      "text/plain": [
       "   b.Name                                  b.Year b.Age b.Medal b.Sport      \n",
       "1  Juhamatti Tapio Aaltonen                2014   28    Bronze  Ice Hockey   \n",
       "2  Paavo Johannes Aaltonen                 1948   28    Bronze  Gymnastics   \n",
       "3  Paavo Johannes Aaltonen                 1948   28    Gold    Gymnastics   \n",
       "4  Paavo Johannes Aaltonen                 1948   28    Gold    Gymnastics   \n",
       "5  Paavo Johannes Aaltonen                 1948   28    Gold    Gymnastics   \n",
       "6  Paavo Johannes Aaltonen                 1952   32    Bronze  Gymnastics   \n",
       "7  Kjetil Andr Aamodt                      1992   20    Gold    Alpine Skiing\n",
       "8  Kjetil Andr Aamodt                      1992   20    Bronze  Alpine Skiing\n",
       "9  Kjetil Andr Aamodt                      1994   22    Silver  Alpine Skiing\n",
       "10 Kjetil Andr Aamodt                      1994   22    Bronze  Alpine Skiing\n",
       "11 Kjetil Andr Aamodt                      1994   22    Silver  Alpine Skiing\n",
       "12 Kjetil Andr Aamodt                      2002   30    Gold    Alpine Skiing\n",
       "13 Kjetil Andr Aamodt                      2002   30    Gold    Alpine Skiing\n",
       "14 Kjetil Andr Aamodt                      2006   34    Gold    Alpine Skiing\n",
       "15 Pepijn Aardewijn                        1996   26    Silver  Rowing       \n",
       "16 Ann Kristin Aarnes                      1996   23    Bronze  Football     \n",
       "17 Giovanni Abagnale                       2016   21    Bronze  Rowing       \n",
       "18 Jos Luis Abajo Gmez                     2008   30    Bronze  Fencing      \n",
       "19 Patimat Abakarova                       2016   21    Bronze  Taekwondo    \n",
       "20 Mariya Vasilyevna Abakumova (-Tarabina) 2008   22    Silver  Athletics    "
      ]
     },
     "metadata": {},
     "output_type": "display_data"
    }
   ],
   "source": [
    "o <- data.frame(b$Name, b$Year, b$Age, b$Medal, b$Sport)\n",
    "head(o,20)"
   ]
  },
  {
   "cell_type": "markdown",
   "metadata": {},
   "source": [
    "» In the given data set of 5 columns attributes are name, year, age, medal and sport. I will be using Age and Medal attribute for comparison to figure out what  is the range of age to win maximum medals.<br/>\n",
    "» By using the sport attribute i will be analyzing the data from both parameters to determine which sport is most played and in which year using year attribute. <br/>\n",
    "» After studying all the bar graphs I will be asserting which age group and sport are most likely of getting a sponsorship from Kellogg's for the next olympic games."
   ]
  },
  {
   "cell_type": "markdown",
   "metadata": {},
   "source": [
    "## 5. Plot"
   ]
  },
  {
   "cell_type": "code",
   "execution_count": 51,
   "metadata": {},
   "outputs": [],
   "source": [
    "b<-na.omit(null)"
   ]
  },
  {
   "cell_type": "code",
   "execution_count": 53,
   "metadata": {},
   "outputs": [],
   "source": [
    "b<-na.omit(d)"
   ]
  },
  {
   "cell_type": "code",
   "execution_count": 56,
   "metadata": {},
   "outputs": [
    {
     "data": {
      "image/png": "[encoded data removed]",
      "text/plain": [
       "plot without title"
      ]
     },
     "metadata": {},
     "output_type": "display_data"
    }
   ],
   "source": [
    "ggplot(data=b, aes(x=Age, y=Medal, fill=Medal)) +\n",
    "  geom_bar(stat=\"identity\")"
   ]
  },
  {
   "cell_type": "code",
   "execution_count": 103,
   "metadata": {},
   "outputs": [
    {
     "data": {
      "image/png": "[encoded data removed]",
      "text/plain": [
       "plot without title"
      ]
     },
     "metadata": {},
     "output_type": "display_data"
    }
   ],
   "source": [
    "ggplot(data=b, aes(x=Year, y=Medal, fill=Medal)) +\n",
    "  geom_bar(stat=\"identity\")"
   ]
  },
  {
   "cell_type": "code",
   "execution_count": 98,
   "metadata": {},
   "outputs": [
    {
     "data": {
      "image/png": "[encoded data removed]",
      "text/plain": [
       "Plot with title \"SPORT VS MEDAL\""
      ]
     },
     "metadata": {},
     "output_type": "display_data"
    }
   ],
   "source": [
    "counts <- table (d$Sport, d$Medal)\n",
    "barplot(counts, main = \"SPORT VS MEDAL\", xlab = \"Medal\", ylab = \"\", legend = TRUE, beside = TRUE, col=c(\"red\", \"yellow\", \"green\", \"steelblue\", \"pink\", \"orange\", \"black\", \"white\", \"purple\") )\n"
   ]
  },
  {
   "cell_type": "markdown",
   "metadata": {},
   "source": [
    "» From the above bar graph blue color depicts the silver medals won, pink shows bronze color and green depicts gold medals won by the athelets. We use gglot2 library to plot multiple graphs of our dataset. geombar() makes the height of the bar proportional to the number of cases in each group. By using stat=\"identity\" we can represent heights of the bar to the values in data attribute. Legend states that medal are differentiated into 3 categories i.e Gold, Silver and Bronze.<br/> \n",
    "\n",
    "» In the analysis above it is clearly visible that from the age group of 20-29 athletes have won Gold medal, similarly maximum silver medals were won by age group of 22-26. Lastly age group of 21-27 have won maximum bronze medals. In Year Vs Medals bar graph we are comparing the years in which the medals are won. I have used similar function from the latter. From year 1960-1990 we can see the maximum of gold medals won. From  1980 there that been significant rise and fall for the medals won by the atheletes.<br/>\n",
    "\n",
    "» In the sports Vs medal graph I have used a bar plot as well for depicting which sport encourages most medals won by the athletes, from this analysis we can find out the sports that has won greater number of medals specially the gold ones. Which makes our task easy to seggregate athletes from those sport eligible for sponsorship."
   ]
  },
  {
   "cell_type": "markdown",
   "metadata": {},
   "source": [
    "## 6. Summary"
   ]
  },
  {
   "cell_type": "markdown",
   "metadata": {},
   "source": [
    "» From the above analysis it is clearly predictable that age group from 22-32 have won most gold medals and the most played sport between that age group were basketball, cross country skiing or golf. Gold Medals won by theletes in year 1960-1980 and  shows a consistent result by observing the bar graph. There is a evident rise in the number of gold medals won by the athletes from year 1960-2016. Hence we could state that for Kellogg's it would be the best choice to sponsor athletes from age group of 25-35 from sports basketball, golf and cross country skiing. "
   ]
  },
  {
   "cell_type": "markdown",
   "metadata": {},
   "source": [
    "## 7. Recommendation"
   ]
  },
  {
   "cell_type": "markdown",
   "metadata": {},
   "source": [
    "» From the above statistical records it is vivid to choose athletes from age group of 22-32 and sports which won most medals are basketball, cross country skiing and golf. Hence it would be a wise selection for sponsorship from Kellogg's for the next olympics as they show pleasing results when statistically administered using bar graphs and simple observation."
   ]
  },
  {
   "cell_type": "code",
   "execution_count": null,
   "metadata": {},
   "outputs": [],
   "source": []
  }
 ],
 "metadata": {
  "kernelspec": {
   "display_name": "R",
   "language": "R",
   "name": "ir"
  },
  "language_info": {
   "codemirror_mode": "r",
   "file_extension": ".r",
   "mimetype": "text/x-r-source",
   "name": "R",
   "pygments_lexer": "r",
   "version": "3.6.1"
  }
 },
 "nbformat": 4,
 "nbformat_minor": 2
}
